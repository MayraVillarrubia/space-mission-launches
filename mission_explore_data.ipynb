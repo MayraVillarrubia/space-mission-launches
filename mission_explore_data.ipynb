{
 "cells": [
  {
   "cell_type": "markdown",
   "metadata": {},
   "source": [
    "![rocket banner](images/space-mission.png \"Space mission launches banner\")"
   ]
  },
  {
   "cell_type": "markdown",
   "metadata": {},
   "source": [
    "### Exploratory Data Analysis: `SPACE MISSION LAUNCHES`"
   ]
  },
  {
   "cell_type": "markdown",
   "metadata": {},
   "source": [
    "<hr style=\"border:2px solid gray\">"
   ]
  },
  {
   "cell_type": "markdown",
   "metadata": {},
   "source": [
    "#### Install packages and libraries needed"
   ]
  },
  {
   "cell_type": "code",
   "execution_count": null,
   "metadata": {},
   "outputs": [],
   "source": [
    "#pip install pandasql\n",
    "#pip install pandas\n",
    "#pip install numpy\n",
    "#pip install matplotlib\n",
    "#pip install seaborn\n",
    "#pip zipfile\n",
    "#pip sqlalchemy"
   ]
  },
  {
   "cell_type": "code",
   "execution_count": null,
   "metadata": {},
   "outputs": [],
   "source": [
    "import pandas as pd\n",
    "import matplotlib.pyplot as plt\n",
    "import seaborn as sns\n",
    "import numpy as np\n",
    "import zipfile\n",
    "#import kaggle\n",
    "import datetime\n",
    "\n",
    "from sqlalchemy import engine\n",
    "from pandasql import sqldf\n",
    "\n",
    "pysqldf = lambda query: sqldf(query, globals())"
   ]
  },
  {
   "cell_type": "markdown",
   "metadata": {},
   "source": [
    "#### Downloading dataset from Kaggle"
   ]
  },
  {
   "cell_type": "code",
   "execution_count": null,
   "metadata": {},
   "outputs": [
    {
     "name": "stdout",
     "output_type": "stream",
     "text": [
      "mission-launches.zip: Skipping, found more recently modified local copy (use --force to force download)\n"
     ]
    }
   ],
   "source": [
    "!kaggle datasets download -d sefercanapaydn/mission-launches"
   ]
  },
  {
   "cell_type": "code",
   "execution_count": null,
   "metadata": {},
   "outputs": [],
   "source": [
    "#Unzip files\n",
    "zipfile_name = 'mission-launches.zip'\n",
    "with zipfile.ZipFile(zipfile_name, 'r') as file:\n",
    "    file.extractall()"
   ]
  },
  {
   "cell_type": "markdown",
   "metadata": {},
   "source": [
    "#### Load data into a dataframe"
   ]
  },
  {
   "cell_type": "code",
   "execution_count": null,
   "metadata": {},
   "outputs": [
    {
     "data": {
      "text/html": [
       "<div>\n",
       "<style scoped>\n",
       "    .dataframe tbody tr th:only-of-type {\n",
       "        vertical-align: middle;\n",
       "    }\n",
       "\n",
       "    .dataframe tbody tr th {\n",
       "        vertical-align: top;\n",
       "    }\n",
       "\n",
       "    .dataframe thead th {\n",
       "        text-align: right;\n",
       "    }\n",
       "</style>\n",
       "<table border=\"1\" class=\"dataframe\">\n",
       "  <thead>\n",
       "    <tr style=\"text-align: right;\">\n",
       "      <th></th>\n",
       "      <th>Unnamed: 0.1</th>\n",
       "      <th>Unnamed: 0</th>\n",
       "      <th>Organisation</th>\n",
       "      <th>Location</th>\n",
       "      <th>Date</th>\n",
       "      <th>Detail</th>\n",
       "      <th>Rocket_Status</th>\n",
       "      <th>Price</th>\n",
       "      <th>Mission_Status</th>\n",
       "    </tr>\n",
       "  </thead>\n",
       "  <tbody>\n",
       "    <tr>\n",
       "      <th>0</th>\n",
       "      <td>0</td>\n",
       "      <td>0</td>\n",
       "      <td>SpaceX</td>\n",
       "      <td>LC-39A, Kennedy Space Center, Florida, USA</td>\n",
       "      <td>Fri Aug 07, 2020 05:12 UTC</td>\n",
       "      <td>Falcon 9 Block 5 | Starlink V1 L9 &amp; BlackSky</td>\n",
       "      <td>StatusActive</td>\n",
       "      <td>50.0</td>\n",
       "      <td>Success</td>\n",
       "    </tr>\n",
       "    <tr>\n",
       "      <th>1</th>\n",
       "      <td>1</td>\n",
       "      <td>1</td>\n",
       "      <td>CASC</td>\n",
       "      <td>Site 9401 (SLS-2), Jiuquan Satellite Launch Ce...</td>\n",
       "      <td>Thu Aug 06, 2020 04:01 UTC</td>\n",
       "      <td>Long March 2D | Gaofen-9 04 &amp; Q-SAT</td>\n",
       "      <td>StatusActive</td>\n",
       "      <td>29.75</td>\n",
       "      <td>Success</td>\n",
       "    </tr>\n",
       "    <tr>\n",
       "      <th>2</th>\n",
       "      <td>2</td>\n",
       "      <td>2</td>\n",
       "      <td>SpaceX</td>\n",
       "      <td>Pad A, Boca Chica, Texas, USA</td>\n",
       "      <td>Tue Aug 04, 2020 23:57 UTC</td>\n",
       "      <td>Starship Prototype | 150 Meter Hop</td>\n",
       "      <td>StatusActive</td>\n",
       "      <td>NaN</td>\n",
       "      <td>Success</td>\n",
       "    </tr>\n",
       "    <tr>\n",
       "      <th>3</th>\n",
       "      <td>3</td>\n",
       "      <td>3</td>\n",
       "      <td>Roscosmos</td>\n",
       "      <td>Site 200/39, Baikonur Cosmodrome, Kazakhstan</td>\n",
       "      <td>Thu Jul 30, 2020 21:25 UTC</td>\n",
       "      <td>Proton-M/Briz-M | Ekspress-80 &amp; Ekspress-103</td>\n",
       "      <td>StatusActive</td>\n",
       "      <td>65.0</td>\n",
       "      <td>Success</td>\n",
       "    </tr>\n",
       "    <tr>\n",
       "      <th>4</th>\n",
       "      <td>4</td>\n",
       "      <td>4</td>\n",
       "      <td>ULA</td>\n",
       "      <td>SLC-41, Cape Canaveral AFS, Florida, USA</td>\n",
       "      <td>Thu Jul 30, 2020 11:50 UTC</td>\n",
       "      <td>Atlas V 541 | Perseverance</td>\n",
       "      <td>StatusActive</td>\n",
       "      <td>145.0</td>\n",
       "      <td>Success</td>\n",
       "    </tr>\n",
       "  </tbody>\n",
       "</table>\n",
       "</div>"
      ],
      "text/plain": [
       "   Unnamed: 0.1  Unnamed: 0 Organisation  \\\n",
       "0             0           0       SpaceX   \n",
       "1             1           1         CASC   \n",
       "2             2           2       SpaceX   \n",
       "3             3           3    Roscosmos   \n",
       "4             4           4          ULA   \n",
       "\n",
       "                                            Location  \\\n",
       "0         LC-39A, Kennedy Space Center, Florida, USA   \n",
       "1  Site 9401 (SLS-2), Jiuquan Satellite Launch Ce...   \n",
       "2                      Pad A, Boca Chica, Texas, USA   \n",
       "3       Site 200/39, Baikonur Cosmodrome, Kazakhstan   \n",
       "4           SLC-41, Cape Canaveral AFS, Florida, USA   \n",
       "\n",
       "                         Date                                        Detail  \\\n",
       "0  Fri Aug 07, 2020 05:12 UTC  Falcon 9 Block 5 | Starlink V1 L9 & BlackSky   \n",
       "1  Thu Aug 06, 2020 04:01 UTC           Long March 2D | Gaofen-9 04 & Q-SAT   \n",
       "2  Tue Aug 04, 2020 23:57 UTC            Starship Prototype | 150 Meter Hop   \n",
       "3  Thu Jul 30, 2020 21:25 UTC  Proton-M/Briz-M | Ekspress-80 & Ekspress-103   \n",
       "4  Thu Jul 30, 2020 11:50 UTC                    Atlas V 541 | Perseverance   \n",
       "\n",
       "  Rocket_Status  Price Mission_Status  \n",
       "0  StatusActive   50.0        Success  \n",
       "1  StatusActive  29.75        Success  \n",
       "2  StatusActive    NaN        Success  \n",
       "3  StatusActive   65.0        Success  \n",
       "4  StatusActive  145.0        Success  "
      ]
     },
     "metadata": {},
     "output_type": "display_data"
    },
    {
     "name": "stdout",
     "output_type": "stream",
     "text": [
      "Rows x Columns:  (4324, 9)\n"
     ]
    }
   ],
   "source": [
    "df_mission = pd.read_csv('mission_launches.csv')\n",
    "display(df_mission.head())\n",
    "print(\"Rows x Columns: \", df_mission.shape)"
   ]
  },
  {
   "cell_type": "markdown",
   "metadata": {},
   "source": [
    "#### List of columns"
   ]
  },
  {
   "cell_type": "code",
   "execution_count": null,
   "metadata": {},
   "outputs": [
    {
     "data": {
      "text/plain": [
       "['Unnamed: 0.1',\n",
       " 'Unnamed: 0',\n",
       " 'Organisation',\n",
       " 'Location',\n",
       " 'Date',\n",
       " 'Detail',\n",
       " 'Rocket_Status',\n",
       " 'Price',\n",
       " 'Mission_Status']"
      ]
     },
     "metadata": {},
     "output_type": "display_data"
    }
   ],
   "source": [
    "list(df_mission.columns)"
   ]
  },
  {
   "cell_type": "code",
   "execution_count": null,
   "metadata": {},
   "outputs": [],
   "source": [
    "df_mission.rename(columns={\"Organisation\": \"Organization\"}, inplace=True)"
   ]
  },
  {
   "cell_type": "markdown",
   "metadata": {},
   "source": [
    "#### Types in dataset"
   ]
  },
  {
   "cell_type": "code",
   "execution_count": null,
   "metadata": {},
   "outputs": [
    {
     "data": {
      "text/plain": [
       "Unnamed: 0.1       int64\n",
       "Unnamed: 0         int64\n",
       "Organization      object\n",
       "Location          object\n",
       "Date              object\n",
       "Detail            object\n",
       "Rocket_Status     object\n",
       "Price             object\n",
       "Mission_Status    object\n",
       "dtype: object"
      ]
     },
     "metadata": {},
     "output_type": "display_data"
    }
   ],
   "source": [
    "df_mission.dtypes"
   ]
  },
  {
   "cell_type": "markdown",
   "metadata": {},
   "source": [
    "_Organization_, _Location_, _Detail_, _Rocket_Status_ and _Mission_Status_ should be of type 'string', however they are of type 'object'. <br> <br> \n",
    "_Date_ should be of type 'datetime' and _Price_ should be 'float'.\n",
    "Let's going to convert them to appropiate type."
   ]
  },
  {
   "cell_type": "code",
   "execution_count": null,
   "metadata": {},
   "outputs": [
    {
     "data": {
      "text/plain": [
       "Unnamed: 0.1               int64\n",
       "Unnamed: 0                 int64\n",
       "Organization      string[python]\n",
       "Location          string[python]\n",
       "Date                      object\n",
       "Detail            string[python]\n",
       "Rocket_Status     string[python]\n",
       "Price                     object\n",
       "Mission_Status    string[python]\n",
       "dtype: object"
      ]
     },
     "metadata": {},
     "output_type": "display_data"
    }
   ],
   "source": [
    "df_mission['Organization'] = df_mission['Organization'].astype('string')\n",
    "df_mission['Location'] = df_mission['Location'].astype('string')\n",
    "df_mission['Detail'] = df_mission['Detail'].astype('string')\n",
    "df_mission['Rocket_Status'] = df_mission['Rocket_Status'].astype('string')\n",
    "df_mission['Mission_Status'] = df_mission['Mission_Status'].astype('string')\n",
    "df_mission.dtypes"
   ]
  },
  {
   "cell_type": "code",
   "execution_count": null,
   "metadata": {},
   "outputs": [
    {
     "name": "stderr",
     "output_type": "stream",
     "text": [
      "/var/folders/5f/yflkgdd93pgb650cqwwbyqb40000gn/T/ipykernel_18539/199377942.py:1: UserWarning: The argument 'infer_datetime_format' is deprecated and will be removed in a future version. A strict version of it is now the default, see https://pandas.pydata.org/pdeps/0004-consistent-to-datetime-parsing.html. You can safely remove this argument.\n",
      "  df_mission['Date'] = pd.to_datetime(df_mission['Date'], infer_datetime_format=True, errors='coerce')\n"
     ]
    },
    {
     "data": {
      "text/plain": [
       "0      2020-08-07 05:12:00+00:00\n",
       "1      2020-08-06 04:01:00+00:00\n",
       "2      2020-08-04 23:57:00+00:00\n",
       "3      2020-07-30 21:25:00+00:00\n",
       "4      2020-07-30 11:50:00+00:00\n",
       "                  ...           \n",
       "4319   1958-02-05 07:33:00+00:00\n",
       "4320   1958-02-01 03:48:00+00:00\n",
       "4321   1957-12-06 16:44:00+00:00\n",
       "4322   1957-11-03 02:30:00+00:00\n",
       "4323   1957-10-04 19:28:00+00:00\n",
       "Name: Date, Length: 4324, dtype: datetime64[ns, UTC]"
      ]
     },
     "metadata": {},
     "output_type": "display_data"
    }
   ],
   "source": [
    "df_mission['Date'] = pd.to_datetime(df_mission['Date'], infer_datetime_format=True, errors='coerce')\n",
    "\n",
    "df_mission['Date'].dtype\n",
    "df_mission['Date']"
   ]
  },
  {
   "cell_type": "code",
   "execution_count": null,
   "metadata": {},
   "outputs": [
    {
     "data": {
      "text/plain": [
       "dtype('float64')"
      ]
     },
     "metadata": {},
     "output_type": "display_data"
    }
   ],
   "source": [
    "#price_years = df_mission[['Year', 'Price']]\n",
    "df_mission['Price'] = pd.to_numeric(df_mission['Price'], errors='coerce')\n",
    "df_mission['Price'].dtype"
   ]
  },
  {
   "cell_type": "markdown",
   "metadata": {},
   "source": [
    "#### Columns with null values"
   ]
  },
  {
   "cell_type": "code",
   "execution_count": null,
   "metadata": {},
   "outputs": [
    {
     "data": {
      "text/plain": [
       "Unnamed: 0.1         0\n",
       "Unnamed: 0           0\n",
       "Organization         0\n",
       "Location             0\n",
       "Date               126\n",
       "Detail               0\n",
       "Rocket_Status        0\n",
       "Price             3360\n",
       "Mission_Status       0\n",
       "dtype: int64"
      ]
     },
     "metadata": {},
     "output_type": "display_data"
    }
   ],
   "source": [
    "df_mission.isna().sum()"
   ]
  },
  {
   "cell_type": "markdown",
   "metadata": {},
   "source": [
    "'Price' and 'Date' column have null values."
   ]
  },
  {
   "cell_type": "markdown",
   "metadata": {},
   "source": [
    "#### Drop columns that we won't use: _'Unnamed: 0.1'_\tand _'Unnamed: 0'_"
   ]
  },
  {
   "cell_type": "code",
   "execution_count": null,
   "metadata": {},
   "outputs": [
    {
     "data": {
      "text/html": [
       "<div>\n",
       "<style scoped>\n",
       "    .dataframe tbody tr th:only-of-type {\n",
       "        vertical-align: middle;\n",
       "    }\n",
       "\n",
       "    .dataframe tbody tr th {\n",
       "        vertical-align: top;\n",
       "    }\n",
       "\n",
       "    .dataframe thead th {\n",
       "        text-align: right;\n",
       "    }\n",
       "</style>\n",
       "<table border=\"1\" class=\"dataframe\">\n",
       "  <thead>\n",
       "    <tr style=\"text-align: right;\">\n",
       "      <th></th>\n",
       "      <th>Unnamed: 0.1</th>\n",
       "      <th>Unnamed: 0</th>\n",
       "    </tr>\n",
       "  </thead>\n",
       "  <tbody>\n",
       "    <tr>\n",
       "      <th>0</th>\n",
       "      <td>0</td>\n",
       "      <td>0</td>\n",
       "    </tr>\n",
       "    <tr>\n",
       "      <th>1</th>\n",
       "      <td>1</td>\n",
       "      <td>1</td>\n",
       "    </tr>\n",
       "    <tr>\n",
       "      <th>2</th>\n",
       "      <td>2</td>\n",
       "      <td>2</td>\n",
       "    </tr>\n",
       "    <tr>\n",
       "      <th>3</th>\n",
       "      <td>3</td>\n",
       "      <td>3</td>\n",
       "    </tr>\n",
       "    <tr>\n",
       "      <th>4</th>\n",
       "      <td>4</td>\n",
       "      <td>4</td>\n",
       "    </tr>\n",
       "    <tr>\n",
       "      <th>...</th>\n",
       "      <td>...</td>\n",
       "      <td>...</td>\n",
       "    </tr>\n",
       "    <tr>\n",
       "      <th>4319</th>\n",
       "      <td>4319</td>\n",
       "      <td>4319</td>\n",
       "    </tr>\n",
       "    <tr>\n",
       "      <th>4320</th>\n",
       "      <td>4320</td>\n",
       "      <td>4320</td>\n",
       "    </tr>\n",
       "    <tr>\n",
       "      <th>4321</th>\n",
       "      <td>4321</td>\n",
       "      <td>4321</td>\n",
       "    </tr>\n",
       "    <tr>\n",
       "      <th>4322</th>\n",
       "      <td>4322</td>\n",
       "      <td>4322</td>\n",
       "    </tr>\n",
       "    <tr>\n",
       "      <th>4323</th>\n",
       "      <td>4323</td>\n",
       "      <td>4323</td>\n",
       "    </tr>\n",
       "  </tbody>\n",
       "</table>\n",
       "<p>4324 rows × 2 columns</p>\n",
       "</div>"
      ],
      "text/plain": [
       "      Unnamed: 0.1  Unnamed: 0\n",
       "0                0           0\n",
       "1                1           1\n",
       "2                2           2\n",
       "3                3           3\n",
       "4                4           4\n",
       "...            ...         ...\n",
       "4319          4319        4319\n",
       "4320          4320        4320\n",
       "4321          4321        4321\n",
       "4322          4322        4322\n",
       "4323          4323        4323\n",
       "\n",
       "[4324 rows x 2 columns]"
      ]
     },
     "metadata": {},
     "output_type": "display_data"
    }
   ],
   "source": [
    "df_mission[['Unnamed: 0.1', 'Unnamed: 0']]"
   ]
  },
  {
   "cell_type": "markdown",
   "metadata": {},
   "source": [
    "This values are unuseful, so we are going to delete them."
   ]
  },
  {
   "cell_type": "code",
   "execution_count": null,
   "metadata": {},
   "outputs": [
    {
     "name": "stdout",
     "output_type": "stream",
     "text": [
      "Rows x Columns:  (4324, 7)\n"
     ]
    }
   ],
   "source": [
    "df_mission.drop(columns=['Unnamed: 0.1', 'Unnamed: 0'], inplace=True) # or mission.drop(['Unnamed: 0.1', 'Unnamed: 0'], axis=1, inplace=True)\n",
    "print('Rows x Columns: ', df_mission.shape) #Should be: (4324, 7)"
   ]
  },
  {
   "cell_type": "markdown",
   "metadata": {},
   "source": [
    "#### Statistics about numerical columns\n"
   ]
  },
  {
   "cell_type": "code",
   "execution_count": null,
   "metadata": {},
   "outputs": [
    {
     "data": {
      "text/html": [
       "<div>\n",
       "<style scoped>\n",
       "    .dataframe tbody tr th:only-of-type {\n",
       "        vertical-align: middle;\n",
       "    }\n",
       "\n",
       "    .dataframe tbody tr th {\n",
       "        vertical-align: top;\n",
       "    }\n",
       "\n",
       "    .dataframe thead th {\n",
       "        text-align: right;\n",
       "    }\n",
       "</style>\n",
       "<table border=\"1\" class=\"dataframe\">\n",
       "  <thead>\n",
       "    <tr style=\"text-align: right;\">\n",
       "      <th></th>\n",
       "      <th>Price</th>\n",
       "      <th>Year</th>\n",
       "    </tr>\n",
       "  </thead>\n",
       "  <tbody>\n",
       "    <tr>\n",
       "      <th>count</th>\n",
       "      <td>949.000000</td>\n",
       "      <td>4198.000000</td>\n",
       "    </tr>\n",
       "    <tr>\n",
       "      <th>mean</th>\n",
       "      <td>129.795237</td>\n",
       "      <td>1987.455693</td>\n",
       "    </tr>\n",
       "    <tr>\n",
       "      <th>std</th>\n",
       "      <td>143.220323</td>\n",
       "      <td>18.085370</td>\n",
       "    </tr>\n",
       "    <tr>\n",
       "      <th>min</th>\n",
       "      <td>5.300000</td>\n",
       "      <td>1957.000000</td>\n",
       "    </tr>\n",
       "    <tr>\n",
       "      <th>25%</th>\n",
       "      <td>40.000000</td>\n",
       "      <td>1972.000000</td>\n",
       "    </tr>\n",
       "    <tr>\n",
       "      <th>50%</th>\n",
       "      <td>62.000000</td>\n",
       "      <td>1985.000000</td>\n",
       "    </tr>\n",
       "    <tr>\n",
       "      <th>75%</th>\n",
       "      <td>164.000000</td>\n",
       "      <td>2002.000000</td>\n",
       "    </tr>\n",
       "    <tr>\n",
       "      <th>max</th>\n",
       "      <td>450.000000</td>\n",
       "      <td>2020.000000</td>\n",
       "    </tr>\n",
       "  </tbody>\n",
       "</table>\n",
       "</div>"
      ],
      "text/plain": [
       "            Price         Year\n",
       "count  949.000000  4198.000000\n",
       "mean   129.795237  1987.455693\n",
       "std    143.220323    18.085370\n",
       "min      5.300000  1957.000000\n",
       "25%     40.000000  1972.000000\n",
       "50%     62.000000  1985.000000\n",
       "75%    164.000000  2002.000000\n",
       "max    450.000000  2020.000000"
      ]
     },
     "metadata": {},
     "output_type": "display_data"
    }
   ],
   "source": [
    "df_mission.describe()"
   ]
  },
  {
   "cell_type": "markdown",
   "metadata": {},
   "source": [
    "#### Statistics about string columns"
   ]
  },
  {
   "cell_type": "code",
   "execution_count": null,
   "metadata": {},
   "outputs": [
    {
     "data": {
      "text/html": [
       "<div>\n",
       "<style scoped>\n",
       "    .dataframe tbody tr th:only-of-type {\n",
       "        vertical-align: middle;\n",
       "    }\n",
       "\n",
       "    .dataframe tbody tr th {\n",
       "        vertical-align: top;\n",
       "    }\n",
       "\n",
       "    .dataframe thead th {\n",
       "        text-align: right;\n",
       "    }\n",
       "</style>\n",
       "<table border=\"1\" class=\"dataframe\">\n",
       "  <thead>\n",
       "    <tr style=\"text-align: right;\">\n",
       "      <th></th>\n",
       "      <th>Organization</th>\n",
       "      <th>Location</th>\n",
       "      <th>Detail</th>\n",
       "      <th>Rocket_Status</th>\n",
       "      <th>Mission_Status</th>\n",
       "    </tr>\n",
       "  </thead>\n",
       "  <tbody>\n",
       "    <tr>\n",
       "      <th>count</th>\n",
       "      <td>4324</td>\n",
       "      <td>4324</td>\n",
       "      <td>4324</td>\n",
       "      <td>4324</td>\n",
       "      <td>4324</td>\n",
       "    </tr>\n",
       "    <tr>\n",
       "      <th>unique</th>\n",
       "      <td>56</td>\n",
       "      <td>137</td>\n",
       "      <td>4278</td>\n",
       "      <td>2</td>\n",
       "      <td>4</td>\n",
       "    </tr>\n",
       "    <tr>\n",
       "      <th>top</th>\n",
       "      <td>RVSN USSR</td>\n",
       "      <td>Site 31/6, Baikonur Cosmodrome, Kazakhstan</td>\n",
       "      <td>Cosmos-3MRB (65MRB) | BOR-5 Shuttle</td>\n",
       "      <td>StatusRetired</td>\n",
       "      <td>Success</td>\n",
       "    </tr>\n",
       "    <tr>\n",
       "      <th>freq</th>\n",
       "      <td>1777</td>\n",
       "      <td>235</td>\n",
       "      <td>6</td>\n",
       "      <td>3534</td>\n",
       "      <td>3879</td>\n",
       "    </tr>\n",
       "  </tbody>\n",
       "</table>\n",
       "</div>"
      ],
      "text/plain": [
       "       Organization                                    Location  \\\n",
       "count          4324                                        4324   \n",
       "unique           56                                         137   \n",
       "top       RVSN USSR  Site 31/6, Baikonur Cosmodrome, Kazakhstan   \n",
       "freq           1777                                         235   \n",
       "\n",
       "                                     Detail  Rocket_Status Mission_Status  \n",
       "count                                  4324           4324           4324  \n",
       "unique                                 4278              2              4  \n",
       "top     Cosmos-3MRB (65MRB) | BOR-5 Shuttle  StatusRetired        Success  \n",
       "freq                                      6           3534           3879  "
      ]
     },
     "metadata": {},
     "output_type": "display_data"
    }
   ],
   "source": [
    "df_mission.describe(include='string')"
   ]
  },
  {
   "cell_type": "markdown",
   "metadata": {},
   "source": [
    "#### Count duplicated values"
   ]
  },
  {
   "cell_type": "code",
   "execution_count": null,
   "metadata": {},
   "outputs": [
    {
     "name": "stdout",
     "output_type": "stream",
     "text": [
      "Duplicate values:  12\n"
     ]
    }
   ],
   "source": [
    "print (\"Duplicate values: \", df_mission.duplicated().sum())\n"
   ]
  },
  {
   "cell_type": "markdown",
   "metadata": {},
   "source": [
    "#### Unique values per column"
   ]
  },
  {
   "cell_type": "code",
   "execution_count": null,
   "metadata": {},
   "outputs": [
    {
     "name": "stdout",
     "output_type": "stream",
     "text": [
      "Organization has 56 unique values\n",
      "Location has 137 unique values\n",
      "Date has 4194 unique values\n",
      "Detail has 4278 unique values\n",
      "Rocket_Status has 2 unique values\n",
      "Price has 56 unique values\n",
      "Mission_Status has 4 unique values\n"
     ]
    }
   ],
   "source": [
    "for col in df_mission.columns:\n",
    "    unique_count = df_mission[col].nunique()\n",
    "    print (col + ' has ' + str(unique_count) + ' unique values')"
   ]
  },
  {
   "cell_type": "markdown",
   "metadata": {},
   "source": [
    "#### Unique values _Mission_Status_ and _Rocket_Status_"
   ]
  },
  {
   "cell_type": "code",
   "execution_count": null,
   "metadata": {},
   "outputs": [
    {
     "name": "stdout",
     "output_type": "stream",
     "text": [
      "Unique values of Rocket_Status:  ['StatusActive', 'StatusRetired']\n",
      "Unique values of Mission Status:  ['Success', 'Failure', 'Prelaunch Failure', 'Partial Failure']\n"
     ]
    }
   ],
   "source": [
    "print (\"Unique values of Rocket_Status: \", list(df_mission.Rocket_Status.unique()))\n",
    "print (\"Unique values of Mission Status: \",list(df_mission.Mission_Status.unique()) )"
   ]
  },
  {
   "cell_type": "markdown",
   "metadata": {},
   "source": [
    "#### Create a new column: _Year_"
   ]
  },
  {
   "cell_type": "code",
   "execution_count": null,
   "metadata": {},
   "outputs": [
    {
     "data": {
      "text/html": [
       "<div>\n",
       "<style scoped>\n",
       "    .dataframe tbody tr th:only-of-type {\n",
       "        vertical-align: middle;\n",
       "    }\n",
       "\n",
       "    .dataframe tbody tr th {\n",
       "        vertical-align: top;\n",
       "    }\n",
       "\n",
       "    .dataframe thead th {\n",
       "        text-align: right;\n",
       "    }\n",
       "</style>\n",
       "<table border=\"1\" class=\"dataframe\">\n",
       "  <thead>\n",
       "    <tr style=\"text-align: right;\">\n",
       "      <th></th>\n",
       "      <th>Organization</th>\n",
       "      <th>Location</th>\n",
       "      <th>Date</th>\n",
       "      <th>Detail</th>\n",
       "      <th>Rocket_Status</th>\n",
       "      <th>Price</th>\n",
       "      <th>Mission_Status</th>\n",
       "      <th>Year</th>\n",
       "    </tr>\n",
       "  </thead>\n",
       "  <tbody>\n",
       "    <tr>\n",
       "      <th>0</th>\n",
       "      <td>SpaceX</td>\n",
       "      <td>LC-39A, Kennedy Space Center, Florida, USA</td>\n",
       "      <td>2020-08-07 05:12:00+00:00</td>\n",
       "      <td>Falcon 9 Block 5 | Starlink V1 L9 &amp; BlackSky</td>\n",
       "      <td>StatusActive</td>\n",
       "      <td>50.0</td>\n",
       "      <td>Success</td>\n",
       "      <td>2020.0</td>\n",
       "    </tr>\n",
       "    <tr>\n",
       "      <th>1</th>\n",
       "      <td>CASC</td>\n",
       "      <td>Site 9401 (SLS-2), Jiuquan Satellite Launch Ce...</td>\n",
       "      <td>2020-08-06 04:01:00+00:00</td>\n",
       "      <td>Long March 2D | Gaofen-9 04 &amp; Q-SAT</td>\n",
       "      <td>StatusActive</td>\n",
       "      <td>29.75</td>\n",
       "      <td>Success</td>\n",
       "      <td>2020.0</td>\n",
       "    </tr>\n",
       "    <tr>\n",
       "      <th>2</th>\n",
       "      <td>SpaceX</td>\n",
       "      <td>Pad A, Boca Chica, Texas, USA</td>\n",
       "      <td>2020-08-04 23:57:00+00:00</td>\n",
       "      <td>Starship Prototype | 150 Meter Hop</td>\n",
       "      <td>StatusActive</td>\n",
       "      <td>NaN</td>\n",
       "      <td>Success</td>\n",
       "      <td>2020.0</td>\n",
       "    </tr>\n",
       "    <tr>\n",
       "      <th>3</th>\n",
       "      <td>Roscosmos</td>\n",
       "      <td>Site 200/39, Baikonur Cosmodrome, Kazakhstan</td>\n",
       "      <td>2020-07-30 21:25:00+00:00</td>\n",
       "      <td>Proton-M/Briz-M | Ekspress-80 &amp; Ekspress-103</td>\n",
       "      <td>StatusActive</td>\n",
       "      <td>65.0</td>\n",
       "      <td>Success</td>\n",
       "      <td>2020.0</td>\n",
       "    </tr>\n",
       "    <tr>\n",
       "      <th>4</th>\n",
       "      <td>ULA</td>\n",
       "      <td>SLC-41, Cape Canaveral AFS, Florida, USA</td>\n",
       "      <td>2020-07-30 11:50:00+00:00</td>\n",
       "      <td>Atlas V 541 | Perseverance</td>\n",
       "      <td>StatusActive</td>\n",
       "      <td>145.0</td>\n",
       "      <td>Success</td>\n",
       "      <td>2020.0</td>\n",
       "    </tr>\n",
       "  </tbody>\n",
       "</table>\n",
       "</div>"
      ],
      "text/plain": [
       "  Organization                                           Location  \\\n",
       "0       SpaceX         LC-39A, Kennedy Space Center, Florida, USA   \n",
       "1         CASC  Site 9401 (SLS-2), Jiuquan Satellite Launch Ce...   \n",
       "2       SpaceX                      Pad A, Boca Chica, Texas, USA   \n",
       "3    Roscosmos       Site 200/39, Baikonur Cosmodrome, Kazakhstan   \n",
       "4          ULA           SLC-41, Cape Canaveral AFS, Florida, USA   \n",
       "\n",
       "                       Date                                        Detail  \\\n",
       "0 2020-08-07 05:12:00+00:00  Falcon 9 Block 5 | Starlink V1 L9 & BlackSky   \n",
       "1 2020-08-06 04:01:00+00:00           Long March 2D | Gaofen-9 04 & Q-SAT   \n",
       "2 2020-08-04 23:57:00+00:00            Starship Prototype | 150 Meter Hop   \n",
       "3 2020-07-30 21:25:00+00:00  Proton-M/Briz-M | Ekspress-80 & Ekspress-103   \n",
       "4 2020-07-30 11:50:00+00:00                    Atlas V 541 | Perseverance   \n",
       "\n",
       "  Rocket_Status  Price Mission_Status    Year  \n",
       "0  StatusActive   50.0        Success  2020.0  \n",
       "1  StatusActive  29.75        Success  2020.0  \n",
       "2  StatusActive    NaN        Success  2020.0  \n",
       "3  StatusActive   65.0        Success  2020.0  \n",
       "4  StatusActive  145.0        Success  2020.0  "
      ]
     },
     "metadata": {},
     "output_type": "display_data"
    }
   ],
   "source": [
    "df_mission['Year'] = df_mission.Date.dt.year\n",
    "df_mission.head()"
   ]
  },
  {
   "cell_type": "code",
   "execution_count": null,
   "metadata": {},
   "outputs": [
    {
     "data": {
      "text/html": [
       "<div>\n",
       "<style scoped>\n",
       "    .dataframe tbody tr th:only-of-type {\n",
       "        vertical-align: middle;\n",
       "    }\n",
       "\n",
       "    .dataframe tbody tr th {\n",
       "        vertical-align: top;\n",
       "    }\n",
       "\n",
       "    .dataframe thead th {\n",
       "        text-align: right;\n",
       "    }\n",
       "</style>\n",
       "<table border=\"1\" class=\"dataframe\">\n",
       "  <thead>\n",
       "    <tr style=\"text-align: right;\">\n",
       "      <th></th>\n",
       "      <th>Organization</th>\n",
       "      <th>Location</th>\n",
       "      <th>Date</th>\n",
       "      <th>Detail</th>\n",
       "      <th>Rocket_Status</th>\n",
       "      <th>Price</th>\n",
       "      <th>Mission_Status</th>\n",
       "      <th>Year</th>\n",
       "    </tr>\n",
       "  </thead>\n",
       "  <tbody>\n",
       "    <tr>\n",
       "      <th>4319</th>\n",
       "      <td>US Navy</td>\n",
       "      <td>LC-18A, Cape Canaveral AFS, Florida, USA</td>\n",
       "      <td>1958-02-05 07:33:00+00:00</td>\n",
       "      <td>Vanguard | Vanguard TV3BU</td>\n",
       "      <td>StatusRetired</td>\n",
       "      <td>NaN</td>\n",
       "      <td>Failure</td>\n",
       "      <td>1958.0</td>\n",
       "    </tr>\n",
       "    <tr>\n",
       "      <th>4320</th>\n",
       "      <td>AMBA</td>\n",
       "      <td>LC-26A, Cape Canaveral AFS, Florida, USA</td>\n",
       "      <td>1958-02-01 03:48:00+00:00</td>\n",
       "      <td>Juno I | Explorer 1</td>\n",
       "      <td>StatusRetired</td>\n",
       "      <td>NaN</td>\n",
       "      <td>Success</td>\n",
       "      <td>1958.0</td>\n",
       "    </tr>\n",
       "    <tr>\n",
       "      <th>4321</th>\n",
       "      <td>US Navy</td>\n",
       "      <td>LC-18A, Cape Canaveral AFS, Florida, USA</td>\n",
       "      <td>1957-12-06 16:44:00+00:00</td>\n",
       "      <td>Vanguard | Vanguard TV3</td>\n",
       "      <td>StatusRetired</td>\n",
       "      <td>NaN</td>\n",
       "      <td>Failure</td>\n",
       "      <td>1957.0</td>\n",
       "    </tr>\n",
       "    <tr>\n",
       "      <th>4322</th>\n",
       "      <td>RVSN USSR</td>\n",
       "      <td>Site 1/5, Baikonur Cosmodrome, Kazakhstan</td>\n",
       "      <td>1957-11-03 02:30:00+00:00</td>\n",
       "      <td>Sputnik 8K71PS | Sputnik-2</td>\n",
       "      <td>StatusRetired</td>\n",
       "      <td>NaN</td>\n",
       "      <td>Success</td>\n",
       "      <td>1957.0</td>\n",
       "    </tr>\n",
       "    <tr>\n",
       "      <th>4323</th>\n",
       "      <td>RVSN USSR</td>\n",
       "      <td>Site 1/5, Baikonur Cosmodrome, Kazakhstan</td>\n",
       "      <td>1957-10-04 19:28:00+00:00</td>\n",
       "      <td>Sputnik 8K71PS | Sputnik-1</td>\n",
       "      <td>StatusRetired</td>\n",
       "      <td>NaN</td>\n",
       "      <td>Success</td>\n",
       "      <td>1957.0</td>\n",
       "    </tr>\n",
       "  </tbody>\n",
       "</table>\n",
       "</div>"
      ],
      "text/plain": [
       "     Organization                                   Location  \\\n",
       "4319      US Navy   LC-18A, Cape Canaveral AFS, Florida, USA   \n",
       "4320         AMBA   LC-26A, Cape Canaveral AFS, Florida, USA   \n",
       "4321      US Navy   LC-18A, Cape Canaveral AFS, Florida, USA   \n",
       "4322    RVSN USSR  Site 1/5, Baikonur Cosmodrome, Kazakhstan   \n",
       "4323    RVSN USSR  Site 1/5, Baikonur Cosmodrome, Kazakhstan   \n",
       "\n",
       "                          Date                      Detail  Rocket_Status  \\\n",
       "4319 1958-02-05 07:33:00+00:00   Vanguard | Vanguard TV3BU  StatusRetired   \n",
       "4320 1958-02-01 03:48:00+00:00         Juno I | Explorer 1  StatusRetired   \n",
       "4321 1957-12-06 16:44:00+00:00     Vanguard | Vanguard TV3  StatusRetired   \n",
       "4322 1957-11-03 02:30:00+00:00  Sputnik 8K71PS | Sputnik-2  StatusRetired   \n",
       "4323 1957-10-04 19:28:00+00:00  Sputnik 8K71PS | Sputnik-1  StatusRetired   \n",
       "\n",
       "      Price Mission_Status    Year  \n",
       "4319    NaN        Failure  1958.0  \n",
       "4320    NaN        Success  1958.0  \n",
       "4321    NaN        Failure  1957.0  \n",
       "4322    NaN        Success  1957.0  \n",
       "4323    NaN        Success  1957.0  "
      ]
     },
     "metadata": {},
     "output_type": "display_data"
    }
   ],
   "source": [
    "df_mission.tail()"
   ]
  },
  {
   "cell_type": "markdown",
   "metadata": {},
   "source": [
    "<hr style=\"border:2px solid gray\">"
   ]
  },
  {
   "cell_type": "markdown",
   "metadata": {},
   "source": [
    "#### EDA - Exploratory Data Analysis"
   ]
  },
  {
   "cell_type": "markdown",
   "metadata": {},
   "source": [
    "1. Who launched the most missions in any given year?"
   ]
  },
  {
   "cell_type": "code",
   "execution_count": null,
   "metadata": {},
   "outputs": [
    {
     "data": {
      "text/html": [
       "<div>\n",
       "<style scoped>\n",
       "    .dataframe tbody tr th:only-of-type {\n",
       "        vertical-align: middle;\n",
       "    }\n",
       "\n",
       "    .dataframe tbody tr th {\n",
       "        vertical-align: top;\n",
       "    }\n",
       "\n",
       "    .dataframe thead th {\n",
       "        text-align: right;\n",
       "    }\n",
       "</style>\n",
       "<table border=\"1\" class=\"dataframe\">\n",
       "  <thead>\n",
       "    <tr style=\"text-align: right;\">\n",
       "      <th></th>\n",
       "      <th>Year</th>\n",
       "      <th>Organization</th>\n",
       "      <th>launches</th>\n",
       "    </tr>\n",
       "  </thead>\n",
       "  <tbody>\n",
       "    <tr>\n",
       "      <th>0</th>\n",
       "      <td>1976.0</td>\n",
       "      <td>RVSN USSR</td>\n",
       "      <td>93</td>\n",
       "    </tr>\n",
       "    <tr>\n",
       "      <th>1</th>\n",
       "      <td>1977.0</td>\n",
       "      <td>RVSN USSR</td>\n",
       "      <td>92</td>\n",
       "    </tr>\n",
       "    <tr>\n",
       "      <th>2</th>\n",
       "      <td>1971.0</td>\n",
       "      <td>RVSN USSR</td>\n",
       "      <td>90</td>\n",
       "    </tr>\n",
       "    <tr>\n",
       "      <th>3</th>\n",
       "      <td>1975.0</td>\n",
       "      <td>RVSN USSR</td>\n",
       "      <td>88</td>\n",
       "    </tr>\n",
       "    <tr>\n",
       "      <th>4</th>\n",
       "      <td>1970.0</td>\n",
       "      <td>RVSN USSR</td>\n",
       "      <td>86</td>\n",
       "    </tr>\n",
       "    <tr>\n",
       "      <th>...</th>\n",
       "      <td>...</td>\n",
       "      <td>...</td>\n",
       "      <td>...</td>\n",
       "    </tr>\n",
       "    <tr>\n",
       "      <th>646</th>\n",
       "      <td>2020.0</td>\n",
       "      <td>IAI</td>\n",
       "      <td>1</td>\n",
       "    </tr>\n",
       "    <tr>\n",
       "      <th>647</th>\n",
       "      <td>2020.0</td>\n",
       "      <td>IRGC</td>\n",
       "      <td>1</td>\n",
       "    </tr>\n",
       "    <tr>\n",
       "      <th>648</th>\n",
       "      <td>2020.0</td>\n",
       "      <td>ISA</td>\n",
       "      <td>1</td>\n",
       "    </tr>\n",
       "    <tr>\n",
       "      <th>649</th>\n",
       "      <td>2020.0</td>\n",
       "      <td>JAXA</td>\n",
       "      <td>1</td>\n",
       "    </tr>\n",
       "    <tr>\n",
       "      <th>650</th>\n",
       "      <td>2020.0</td>\n",
       "      <td>Virgin Orbit</td>\n",
       "      <td>1</td>\n",
       "    </tr>\n",
       "  </tbody>\n",
       "</table>\n",
       "<p>651 rows × 3 columns</p>\n",
       "</div>"
      ],
      "text/plain": [
       "       Year  Organization  launches\n",
       "0    1976.0     RVSN USSR        93\n",
       "1    1977.0     RVSN USSR        92\n",
       "2    1971.0     RVSN USSR        90\n",
       "3    1975.0     RVSN USSR        88\n",
       "4    1970.0     RVSN USSR        86\n",
       "..      ...           ...       ...\n",
       "646  2020.0           IAI         1\n",
       "647  2020.0          IRGC         1\n",
       "648  2020.0           ISA         1\n",
       "649  2020.0          JAXA         1\n",
       "650  2020.0  Virgin Orbit         1\n",
       "\n",
       "[651 rows x 3 columns]"
      ]
     },
     "metadata": {},
     "output_type": "display_data"
    }
   ],
   "source": [
    "query = \"\"\"\n",
    "Select Year, Organization, count(Organization) as launches\n",
    "from df_mission\n",
    "group by Year, Organization\n",
    "order by launches desc\n",
    "\"\"\"\n",
    "results = pysqldf(query)\n",
    "results"
   ]
  },
  {
   "cell_type": "markdown",
   "metadata": {},
   "source": [
    "2. How has the cost of a space mission varied over time?"
   ]
  },
  {
   "cell_type": "code",
   "execution_count": null,
   "metadata": {},
   "outputs": [
    {
     "data": {
      "text/html": [
       "<div>\n",
       "<style scoped>\n",
       "    .dataframe tbody tr th:only-of-type {\n",
       "        vertical-align: middle;\n",
       "    }\n",
       "\n",
       "    .dataframe tbody tr th {\n",
       "        vertical-align: top;\n",
       "    }\n",
       "\n",
       "    .dataframe thead th {\n",
       "        text-align: right;\n",
       "    }\n",
       "</style>\n",
       "<table border=\"1\" class=\"dataframe\">\n",
       "  <thead>\n",
       "    <tr style=\"text-align: right;\">\n",
       "      <th></th>\n",
       "      <th>Year</th>\n",
       "      <th>Launches</th>\n",
       "      <th>TotalPerYear</th>\n",
       "      <th>Avg</th>\n",
       "    </tr>\n",
       "  </thead>\n",
       "  <tbody>\n",
       "    <tr>\n",
       "      <th>0</th>\n",
       "      <td>NaN</td>\n",
       "      <td>0</td>\n",
       "      <td>168.30</td>\n",
       "      <td>NaN</td>\n",
       "    </tr>\n",
       "    <tr>\n",
       "      <th>1</th>\n",
       "      <td>1957.0</td>\n",
       "      <td>3</td>\n",
       "      <td>NaN</td>\n",
       "      <td>NaN</td>\n",
       "    </tr>\n",
       "    <tr>\n",
       "      <th>2</th>\n",
       "      <td>1958.0</td>\n",
       "      <td>22</td>\n",
       "      <td>NaN</td>\n",
       "      <td>NaN</td>\n",
       "    </tr>\n",
       "    <tr>\n",
       "      <th>3</th>\n",
       "      <td>1959.0</td>\n",
       "      <td>20</td>\n",
       "      <td>NaN</td>\n",
       "      <td>NaN</td>\n",
       "    </tr>\n",
       "    <tr>\n",
       "      <th>4</th>\n",
       "      <td>1960.0</td>\n",
       "      <td>38</td>\n",
       "      <td>NaN</td>\n",
       "      <td>NaN</td>\n",
       "    </tr>\n",
       "    <tr>\n",
       "      <th>...</th>\n",
       "      <td>...</td>\n",
       "      <td>...</td>\n",
       "      <td>...</td>\n",
       "      <td>...</td>\n",
       "    </tr>\n",
       "    <tr>\n",
       "      <th>60</th>\n",
       "      <td>2016.0</td>\n",
       "      <td>88</td>\n",
       "      <td>5085.27</td>\n",
       "      <td>57.787159</td>\n",
       "    </tr>\n",
       "    <tr>\n",
       "      <th>61</th>\n",
       "      <td>2017.0</td>\n",
       "      <td>90</td>\n",
       "      <td>4586.41</td>\n",
       "      <td>50.960111</td>\n",
       "    </tr>\n",
       "    <tr>\n",
       "      <th>62</th>\n",
       "      <td>2018.0</td>\n",
       "      <td>117</td>\n",
       "      <td>5697.98</td>\n",
       "      <td>48.700684</td>\n",
       "    </tr>\n",
       "    <tr>\n",
       "      <th>63</th>\n",
       "      <td>2019.0</td>\n",
       "      <td>107</td>\n",
       "      <td>4351.51</td>\n",
       "      <td>40.668318</td>\n",
       "    </tr>\n",
       "    <tr>\n",
       "      <th>64</th>\n",
       "      <td>2020.0</td>\n",
       "      <td>63</td>\n",
       "      <td>2945.81</td>\n",
       "      <td>46.758889</td>\n",
       "    </tr>\n",
       "  </tbody>\n",
       "</table>\n",
       "<p>65 rows × 4 columns</p>\n",
       "</div>"
      ],
      "text/plain": [
       "      Year  Launches  TotalPerYear        Avg\n",
       "0      NaN         0        168.30        NaN\n",
       "1   1957.0         3           NaN        NaN\n",
       "2   1958.0        22           NaN        NaN\n",
       "3   1959.0        20           NaN        NaN\n",
       "4   1960.0        38           NaN        NaN\n",
       "..     ...       ...           ...        ...\n",
       "60  2016.0        88       5085.27  57.787159\n",
       "61  2017.0        90       4586.41  50.960111\n",
       "62  2018.0       117       5697.98  48.700684\n",
       "63  2019.0       107       4351.51  40.668318\n",
       "64  2020.0        63       2945.81  46.758889\n",
       "\n",
       "[65 rows x 4 columns]"
      ]
     },
     "metadata": {},
     "output_type": "display_data"
    }
   ],
   "source": [
    "query = \"\"\"\n",
    "Select Year, count(Year) as Launches, sum(Price) as TotalPerYear, sum(Price)/count(Year) as Avg\n",
    "from df_mission\n",
    "group by Year\n",
    "\"\"\"\n",
    "results = pysqldf(query)\n",
    "results"
   ]
  },
  {
   "cell_type": "code",
   "execution_count": null,
   "metadata": {},
   "outputs": [
    {
     "name": "stderr",
     "output_type": "stream",
     "text": [
      "/Users/mayv/anaconda3/envs/base-environment/lib/python3.12/site-packages/seaborn/_oldcore.py:1119: FutureWarning: use_inf_as_na option is deprecated and will be removed in a future version. Convert inf values to NaN before operating instead.\n",
      "  with pd.option_context('mode.use_inf_as_na', True):\n",
      "/Users/mayv/anaconda3/envs/base-environment/lib/python3.12/site-packages/seaborn/_oldcore.py:1119: FutureWarning: use_inf_as_na option is deprecated and will be removed in a future version. Convert inf values to NaN before operating instead.\n",
      "  with pd.option_context('mode.use_inf_as_na', True):\n",
      "/Users/mayv/anaconda3/envs/base-environment/lib/python3.12/site-packages/seaborn/_oldcore.py:1119: FutureWarning: use_inf_as_na option is deprecated and will be removed in a future version. Convert inf values to NaN before operating instead.\n",
      "  with pd.option_context('mode.use_inf_as_na', True):\n",
      "/Users/mayv/anaconda3/envs/base-environment/lib/python3.12/site-packages/seaborn/_oldcore.py:1119: FutureWarning: use_inf_as_na option is deprecated and will be removed in a future version. Convert inf values to NaN before operating instead.\n",
      "  with pd.option_context('mode.use_inf_as_na', True):\n"
     ]
    },
    {
     "data": {
      "image/png": "[encoded data removed]",
      "text/plain": [
       "<Figure size 1500x500 with 2 Axes>"
      ]
     },
     "metadata": {},
     "output_type": "display_data"
    }
   ],
   "source": [
    "fig, axes = plt.subplots(1, 2, figsize=(15, 5))\n",
    "\n",
    "# Subplot 1: \n",
    "sns.lineplot(data=results, x='Year', y='Launches', ax=axes[0])\n",
    "axes[0].set_title('Line Plot of Launches per year')\n",
    "axes[0].set_xlabel('Years')\n",
    "axes[0].set_ylabel('Amount of launches')\n",
    "\n",
    "# Subplot 2:\n",
    "sns.lineplot(data=results, x='Year', y='Avg', ax=axes[1])\n",
    "axes[1].set_title ('Line Plot of Average Price per launch per year')\n",
    "axes[1].set_ylabel('Price per launch')\n",
    "axes[1].set_xlabel('Years')\n",
    "\n",
    "plt.show()"
   ]
  },
  {
   "cell_type": "markdown",
   "metadata": {},
   "source": [
    "3. Which months are the most popular for launches?"
   ]
  },
  {
   "cell_type": "code",
   "execution_count": null,
   "metadata": {},
   "outputs": [],
   "source": [
    "query = \"\"\"\n",
    "select Date, strftime('%m', Date) as month\n",
    "from df_mission\n",
    "\"\"\"\n",
    "\n",
    "months = pysqldf(query)\n",
    "months = months.sort_values(by='month', ascending=True)"
   ]
  },
  {
   "cell_type": "code",
   "execution_count": null,
   "metadata": {},
   "outputs": [
    {
     "data": {
      "text/plain": [
       "month\n",
       "12    430\n",
       "06    386\n",
       "10    375\n",
       "04    366\n",
       "08    358\n",
       "09    354\n",
       "03    349\n",
       "07    347\n",
       "11    325\n",
       "02    323\n",
       "05    320\n",
       "01    265\n",
       "Name: count, dtype: int64"
      ]
     },
     "metadata": {},
     "output_type": "display_data"
    }
   ],
   "source": [
    "popular_months = months.month.value_counts()\n",
    "popular_months"
   ]
  },
  {
   "cell_type": "code",
   "execution_count": null,
   "metadata": {},
   "outputs": [
    {
     "name": "stderr",
     "output_type": "stream",
     "text": [
      "/var/folders/5f/yflkgdd93pgb650cqwwbyqb40000gn/T/ipykernel_18539/144689668.py:2: UserWarning: Ignoring `palette` because no `hue` variable has been assigned.\n",
      "  sns.histplot(data=months, x='month', shrink=.8, palette='bright')\n",
      "/Users/mayv/anaconda3/envs/base-environment/lib/python3.12/site-packages/seaborn/_oldcore.py:1119: FutureWarning: use_inf_as_na option is deprecated and will be removed in a future version. Convert inf values to NaN before operating instead.\n",
      "  with pd.option_context('mode.use_inf_as_na', True):\n"
     ]
    },
    {
     "data": {
      "image/png": "[encoded data removed]",
      "text/plain": [
       "<Figure size 1000x800 with 1 Axes>"
      ]
     },
     "metadata": {},
     "output_type": "display_data"
    }
   ],
   "source": [
    "plt.figure(figsize=(10,8))\n",
    "sns.histplot(data=months, x='month', shrink=.8, palette='bright')\n",
    "plt.xlabel('Months')\n",
    "plt.ylabel('Frequency')\n",
    "plt.show()"
   ]
  },
  {
   "cell_type": "markdown",
   "metadata": {},
   "source": [
    "4. Have space missions gotten safer or has the chance of failure remained unchanged? <br>\n",
    "¿Se han vuelto más seguras las misiones espaciales o las posibilidades de fracaso se han mantenido sin cambios?"
   ]
  },
  {
   "cell_type": "code",
   "execution_count": null,
   "metadata": {},
   "outputs": [
    {
     "data": {
      "text/html": [
       "<div>\n",
       "<style scoped>\n",
       "    .dataframe tbody tr th:only-of-type {\n",
       "        vertical-align: middle;\n",
       "    }\n",
       "\n",
       "    .dataframe tbody tr th {\n",
       "        vertical-align: top;\n",
       "    }\n",
       "\n",
       "    .dataframe thead th {\n",
       "        text-align: right;\n",
       "    }\n",
       "</style>\n",
       "<table border=\"1\" class=\"dataframe\">\n",
       "  <thead>\n",
       "    <tr style=\"text-align: right;\">\n",
       "      <th></th>\n",
       "      <th>Year</th>\n",
       "      <th>Mission_Status</th>\n",
       "      <th>amount</th>\n",
       "    </tr>\n",
       "  </thead>\n",
       "  <tbody>\n",
       "    <tr>\n",
       "      <th>0</th>\n",
       "      <td>NaN</td>\n",
       "      <td>Failure</td>\n",
       "      <td>39</td>\n",
       "    </tr>\n",
       "    <tr>\n",
       "      <th>1</th>\n",
       "      <td>NaN</td>\n",
       "      <td>Prelaunch Failure</td>\n",
       "      <td>2</td>\n",
       "    </tr>\n",
       "    <tr>\n",
       "      <th>2</th>\n",
       "      <td>NaN</td>\n",
       "      <td>Success</td>\n",
       "      <td>85</td>\n",
       "    </tr>\n",
       "    <tr>\n",
       "      <th>3</th>\n",
       "      <td>1957.0</td>\n",
       "      <td>Failure</td>\n",
       "      <td>1</td>\n",
       "    </tr>\n",
       "    <tr>\n",
       "      <th>4</th>\n",
       "      <td>1957.0</td>\n",
       "      <td>Success</td>\n",
       "      <td>2</td>\n",
       "    </tr>\n",
       "    <tr>\n",
       "      <th>...</th>\n",
       "      <td>...</td>\n",
       "      <td>...</td>\n",
       "      <td>...</td>\n",
       "    </tr>\n",
       "    <tr>\n",
       "      <th>173</th>\n",
       "      <td>2019.0</td>\n",
       "      <td>Failure</td>\n",
       "      <td>5</td>\n",
       "    </tr>\n",
       "    <tr>\n",
       "      <th>174</th>\n",
       "      <td>2019.0</td>\n",
       "      <td>Partial Failure</td>\n",
       "      <td>2</td>\n",
       "    </tr>\n",
       "    <tr>\n",
       "      <th>175</th>\n",
       "      <td>2019.0</td>\n",
       "      <td>Success</td>\n",
       "      <td>100</td>\n",
       "    </tr>\n",
       "    <tr>\n",
       "      <th>176</th>\n",
       "      <td>2020.0</td>\n",
       "      <td>Failure</td>\n",
       "      <td>6</td>\n",
       "    </tr>\n",
       "    <tr>\n",
       "      <th>177</th>\n",
       "      <td>2020.0</td>\n",
       "      <td>Success</td>\n",
       "      <td>57</td>\n",
       "    </tr>\n",
       "  </tbody>\n",
       "</table>\n",
       "<p>178 rows × 3 columns</p>\n",
       "</div>"
      ],
      "text/plain": [
       "       Year     Mission_Status  amount\n",
       "0       NaN            Failure      39\n",
       "1       NaN  Prelaunch Failure       2\n",
       "2       NaN            Success      85\n",
       "3    1957.0            Failure       1\n",
       "4    1957.0            Success       2\n",
       "..      ...                ...     ...\n",
       "173  2019.0            Failure       5\n",
       "174  2019.0    Partial Failure       2\n",
       "175  2019.0            Success     100\n",
       "176  2020.0            Failure       6\n",
       "177  2020.0            Success      57\n",
       "\n",
       "[178 rows x 3 columns]"
      ]
     },
     "metadata": {},
     "output_type": "display_data"
    }
   ],
   "source": [
    "query = \"\"\"\n",
    "select Year, Mission_Status, count(Mission_Status) as amount\n",
    "from df_mission\n",
    "group by Year, Mission_Status \n",
    "\"\"\"\n",
    "\n",
    "count_mission_status = sqldf(query)\n",
    "count_mission_status"
   ]
  },
  {
   "cell_type": "markdown",
   "metadata": {},
   "source": [
    "There is 39 missions that Failed, 85 that were succesful, and 2 that failed before launch that do not have an assigned year."
   ]
  },
  {
   "cell_type": "code",
   "execution_count": null,
   "metadata": {},
   "outputs": [
    {
     "data": {
      "text/html": [
       "<div>\n",
       "<style scoped>\n",
       "    .dataframe tbody tr th:only-of-type {\n",
       "        vertical-align: middle;\n",
       "    }\n",
       "\n",
       "    .dataframe tbody tr th {\n",
       "        vertical-align: top;\n",
       "    }\n",
       "\n",
       "    .dataframe thead th {\n",
       "        text-align: right;\n",
       "    }\n",
       "</style>\n",
       "<table border=\"1\" class=\"dataframe\">\n",
       "  <thead>\n",
       "    <tr style=\"text-align: right;\">\n",
       "      <th></th>\n",
       "      <th>Year</th>\n",
       "      <th>Mission_Status</th>\n",
       "      <th>amount</th>\n",
       "    </tr>\n",
       "  </thead>\n",
       "  <tbody>\n",
       "    <tr>\n",
       "      <th>0</th>\n",
       "      <td>NaN</td>\n",
       "      <td>Success</td>\n",
       "      <td>85</td>\n",
       "    </tr>\n",
       "    <tr>\n",
       "      <th>1</th>\n",
       "      <td>1957.0</td>\n",
       "      <td>Success</td>\n",
       "      <td>2</td>\n",
       "    </tr>\n",
       "    <tr>\n",
       "      <th>2</th>\n",
       "      <td>1958.0</td>\n",
       "      <td>Success</td>\n",
       "      <td>6</td>\n",
       "    </tr>\n",
       "    <tr>\n",
       "      <th>3</th>\n",
       "      <td>1959.0</td>\n",
       "      <td>Success</td>\n",
       "      <td>8</td>\n",
       "    </tr>\n",
       "    <tr>\n",
       "      <th>4</th>\n",
       "      <td>1960.0</td>\n",
       "      <td>Success</td>\n",
       "      <td>19</td>\n",
       "    </tr>\n",
       "    <tr>\n",
       "      <th>...</th>\n",
       "      <td>...</td>\n",
       "      <td>...</td>\n",
       "      <td>...</td>\n",
       "    </tr>\n",
       "    <tr>\n",
       "      <th>60</th>\n",
       "      <td>2016.0</td>\n",
       "      <td>Success</td>\n",
       "      <td>84</td>\n",
       "    </tr>\n",
       "    <tr>\n",
       "      <th>61</th>\n",
       "      <td>2017.0</td>\n",
       "      <td>Success</td>\n",
       "      <td>83</td>\n",
       "    </tr>\n",
       "    <tr>\n",
       "      <th>62</th>\n",
       "      <td>2018.0</td>\n",
       "      <td>Success</td>\n",
       "      <td>113</td>\n",
       "    </tr>\n",
       "    <tr>\n",
       "      <th>63</th>\n",
       "      <td>2019.0</td>\n",
       "      <td>Success</td>\n",
       "      <td>100</td>\n",
       "    </tr>\n",
       "    <tr>\n",
       "      <th>64</th>\n",
       "      <td>2020.0</td>\n",
       "      <td>Success</td>\n",
       "      <td>57</td>\n",
       "    </tr>\n",
       "  </tbody>\n",
       "</table>\n",
       "<p>65 rows × 3 columns</p>\n",
       "</div>"
      ],
      "text/plain": [
       "      Year Mission_Status  amount\n",
       "0      NaN        Success      85\n",
       "1   1957.0        Success       2\n",
       "2   1958.0        Success       6\n",
       "3   1959.0        Success       8\n",
       "4   1960.0        Success      19\n",
       "..     ...            ...     ...\n",
       "60  2016.0        Success      84\n",
       "61  2017.0        Success      83\n",
       "62  2018.0        Success     113\n",
       "63  2019.0        Success     100\n",
       "64  2020.0        Success      57\n",
       "\n",
       "[65 rows x 3 columns]"
      ]
     },
     "metadata": {},
     "output_type": "display_data"
    }
   ],
   "source": [
    "query = \"\"\"\n",
    "select Year, Mission_Status, count(Mission_Status) as amount\n",
    "from df_mission\n",
    "where Mission_Status == 'Success'\n",
    "group by Year\n",
    "\"\"\"\n",
    "success = sqldf(query)\n",
    "success"
   ]
  },
  {
   "cell_type": "code",
   "execution_count": null,
   "metadata": {},
   "outputs": [
    {
     "data": {
      "text/html": [
       "<div>\n",
       "<style scoped>\n",
       "    .dataframe tbody tr th:only-of-type {\n",
       "        vertical-align: middle;\n",
       "    }\n",
       "\n",
       "    .dataframe tbody tr th {\n",
       "        vertical-align: top;\n",
       "    }\n",
       "\n",
       "    .dataframe thead th {\n",
       "        text-align: right;\n",
       "    }\n",
       "</style>\n",
       "<table border=\"1\" class=\"dataframe\">\n",
       "  <thead>\n",
       "    <tr style=\"text-align: right;\">\n",
       "      <th></th>\n",
       "      <th>Year</th>\n",
       "      <th>Mission_Status</th>\n",
       "      <th>amount</th>\n",
       "      <th>total</th>\n",
       "    </tr>\n",
       "  </thead>\n",
       "  <tbody>\n",
       "    <tr>\n",
       "      <th>0</th>\n",
       "      <td>NaN</td>\n",
       "      <td>Success</td>\n",
       "      <td>85</td>\n",
       "      <td>0</td>\n",
       "    </tr>\n",
       "    <tr>\n",
       "      <th>1</th>\n",
       "      <td>1957.0</td>\n",
       "      <td>Success</td>\n",
       "      <td>2</td>\n",
       "      <td>3</td>\n",
       "    </tr>\n",
       "    <tr>\n",
       "      <th>2</th>\n",
       "      <td>1958.0</td>\n",
       "      <td>Success</td>\n",
       "      <td>6</td>\n",
       "      <td>22</td>\n",
       "    </tr>\n",
       "    <tr>\n",
       "      <th>3</th>\n",
       "      <td>1959.0</td>\n",
       "      <td>Success</td>\n",
       "      <td>8</td>\n",
       "      <td>20</td>\n",
       "    </tr>\n",
       "    <tr>\n",
       "      <th>4</th>\n",
       "      <td>1960.0</td>\n",
       "      <td>Success</td>\n",
       "      <td>19</td>\n",
       "      <td>38</td>\n",
       "    </tr>\n",
       "    <tr>\n",
       "      <th>...</th>\n",
       "      <td>...</td>\n",
       "      <td>...</td>\n",
       "      <td>...</td>\n",
       "      <td>...</td>\n",
       "    </tr>\n",
       "    <tr>\n",
       "      <th>60</th>\n",
       "      <td>2016.0</td>\n",
       "      <td>Success</td>\n",
       "      <td>84</td>\n",
       "      <td>88</td>\n",
       "    </tr>\n",
       "    <tr>\n",
       "      <th>61</th>\n",
       "      <td>2017.0</td>\n",
       "      <td>Success</td>\n",
       "      <td>83</td>\n",
       "      <td>90</td>\n",
       "    </tr>\n",
       "    <tr>\n",
       "      <th>62</th>\n",
       "      <td>2018.0</td>\n",
       "      <td>Success</td>\n",
       "      <td>113</td>\n",
       "      <td>117</td>\n",
       "    </tr>\n",
       "    <tr>\n",
       "      <th>63</th>\n",
       "      <td>2019.0</td>\n",
       "      <td>Success</td>\n",
       "      <td>100</td>\n",
       "      <td>107</td>\n",
       "    </tr>\n",
       "    <tr>\n",
       "      <th>64</th>\n",
       "      <td>2020.0</td>\n",
       "      <td>Success</td>\n",
       "      <td>57</td>\n",
       "      <td>63</td>\n",
       "    </tr>\n",
       "  </tbody>\n",
       "</table>\n",
       "<p>65 rows × 4 columns</p>\n",
       "</div>"
      ],
      "text/plain": [
       "      Year Mission_Status  amount  total\n",
       "0      NaN        Success      85      0\n",
       "1   1957.0        Success       2      3\n",
       "2   1958.0        Success       6     22\n",
       "3   1959.0        Success       8     20\n",
       "4   1960.0        Success      19     38\n",
       "..     ...            ...     ...    ...\n",
       "60  2016.0        Success      84     88\n",
       "61  2017.0        Success      83     90\n",
       "62  2018.0        Success     113    117\n",
       "63  2019.0        Success     100    107\n",
       "64  2020.0        Success      57     63\n",
       "\n",
       "[65 rows x 4 columns]"
      ]
     },
     "metadata": {},
     "output_type": "display_data"
    }
   ],
   "source": [
    "query = '''\n",
    "select Year, count(Year) as total\n",
    "from df_mission\n",
    "group by Year\n",
    "'''\n",
    "res2 = sqldf(query)\n",
    "success['total'] = res2['total'].values\n",
    "success"
   ]
  },
  {
   "cell_type": "code",
   "execution_count": null,
   "metadata": {},
   "outputs": [],
   "source": [
    "success['percent'] = success['amount']*100/success['total']\n"
   ]
  },
  {
   "cell_type": "code",
   "execution_count": null,
   "metadata": {},
   "outputs": [
    {
     "name": "stderr",
     "output_type": "stream",
     "text": [
      "/Users/mayv/anaconda3/envs/base-environment/lib/python3.12/site-packages/seaborn/_oldcore.py:1119: FutureWarning: use_inf_as_na option is deprecated and will be removed in a future version. Convert inf values to NaN before operating instead.\n",
      "  with pd.option_context('mode.use_inf_as_na', True):\n",
      "/Users/mayv/anaconda3/envs/base-environment/lib/python3.12/site-packages/seaborn/_oldcore.py:1119: FutureWarning: use_inf_as_na option is deprecated and will be removed in a future version. Convert inf values to NaN before operating instead.\n",
      "  with pd.option_context('mode.use_inf_as_na', True):\n"
     ]
    },
    {
     "data": {
      "text/plain": [
       "Text(0, 0.5, '% Success Launches')"
      ]
     },
     "metadata": {},
     "output_type": "display_data"
    },
    {
     "data": {
      "image/png": "[encoded data removed]",
      "text/plain": [
       "<Figure size 1000x800 with 1 Axes>"
      ]
     },
     "metadata": {},
     "output_type": "display_data"
    }
   ],
   "source": [
    "plt.figure(figsize=(10,8))\n",
    "ax = sns.lineplot(data=ress, x='Year', y='percent', hue='Mission_Status')#, size=\"amount\")#, style='Mission_Status')\n",
    "sns.move_legend(ax, \"upper left\", bbox_to_anchor=(.4, 1), ncol=2, title=None, frameon=True )\n",
    "plt.title('Mission Status between 1957 - 2020')\n",
    "plt.ylabel('% Success Launches')"
   ]
  }
 ],
 "metadata": {
  "kernelspec": {
   "display_name": "base-environment",
   "language": "python",
   "name": "python3"
  },
  "language_info": {
   "name": "python",
   "version": "3.12.3"
  }
 },
 "nbformat": 4,
 "nbformat_minor": 2
}
